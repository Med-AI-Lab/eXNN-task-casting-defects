{
 "cells": [
  {
   "cell_type": "code",
   "execution_count": 1,
   "id": "interim-poverty",
   "metadata": {},
   "outputs": [],
   "source": [
    "import os\n",
    "from pathlib import Path\n",
    "from torch.utils.data import Dataset, DataLoader\n",
    "from PIL import Image\n",
    "import numpy as np\n",
    "import torchvision.transforms as TF\n",
    "import torch\n",
    "import torch.nn as nn\n",
    "import torchvision.models\n",
    "from tqdm.auto import tqdm"
   ]
  },
  {
   "cell_type": "code",
   "execution_count": 2,
   "id": "instrumental-pursuit",
   "metadata": {},
   "outputs": [],
   "source": [
    "data_path = Path('casting_512x512')"
   ]
  },
  {
   "cell_type": "code",
   "execution_count": 3,
   "id": "middle-permission",
   "metadata": {},
   "outputs": [],
   "source": [
    "device = torch.device('cuda:0')"
   ]
  },
  {
   "cell_type": "code",
   "execution_count": 4,
   "id": "complimentary-commodity",
   "metadata": {},
   "outputs": [],
   "source": [
    "def create_model(num_classes, model_name):\n",
    "    if model_name.startswith('resnet'):\n",
    "        # model = getattr(torchvision.models, model_name)(weights='IMAGENET1K_V1')\n",
    "        model = getattr(torchvision.models, model_name)(pretrained=True)\n",
    "        model.fc = nn.Linear(model.fc.in_features, num_classes, bias=True)\n",
    "    else:\n",
    "        raise Exception(f'Unsupported model name: `{model_name}`')\n",
    "    return model"
   ]
  },
  {
   "cell_type": "code",
   "execution_count": 5,
   "id": "apart-viewer",
   "metadata": {},
   "outputs": [],
   "source": [
    "class MyDs(Dataset):\n",
    "    def __init__(self, pos_files, neg_files, tfm=None):\n",
    "        self.pos_files = pos_files\n",
    "        self.neg_files = neg_files\n",
    "        self.tfm = tfm\n",
    "    def __len__(self): return len(self.pos_files) + len(self.neg_files)\n",
    "    def __getitem__(self, i):\n",
    "        if i < len(self.pos_files):\n",
    "            pf = data_path / 'def_front' / self.pos_files[i]\n",
    "            lbl = 1\n",
    "        else:\n",
    "            pf = data_path / 'ok_front' / self.neg_files[i - len(self.pos_files)]\n",
    "            lbl = 0\n",
    "        image = Image.open(pf)\n",
    "        if self.tfm is not None:\n",
    "            image = self.tfm(image)\n",
    "        return image, lbl"
   ]
  },
  {
   "cell_type": "code",
   "execution_count": 6,
   "id": "interested-liability",
   "metadata": {},
   "outputs": [],
   "source": [
    "class ValueCollector:\n",
    "    def __init__(self):\n",
    "        self.values = []\n",
    "    def put(self, vs):\n",
    "        self.values.append(vs)\n",
    "    def get(self):\n",
    "        if len(self.values) == 0: \n",
    "            return []\n",
    "        el = self.values[0]\n",
    "        if isinstance(el, np.ndarray):\n",
    "            return np.concatenate(self.values, axis=0)\n",
    "        if isinstance(el, torch.Tensor):\n",
    "            return torch.cat(self.values, dim=0)\n",
    "        if isinstance(el, (list, tuple)):\n",
    "            L = []\n",
    "            for el in self.values:\n",
    "                L += list(el)\n",
    "            return L\n",
    "        return self.values[:]"
   ]
  },
  {
   "cell_type": "code",
   "execution_count": 7,
   "id": "married-participation",
   "metadata": {},
   "outputs": [],
   "source": [
    "def get_accuracy(lbls, preds):\n",
    "    return (preds == lbls).float().mean().item()\n",
    "\n",
    "def get_accuracies(lbls, preds, num_classes):\n",
    "    return [(preds[lbls == c] == c).float().mean().item() for c in range(num_classes)]\n",
    "\n",
    "def get_balanced_accuracy(lbls, preds, num_classes):\n",
    "    accs = get_accuracies(lbls, preds, num_classes)\n",
    "    return torch.tensor(accs).mean().item()\n",
    "\n",
    "def mean(L:list):\n",
    "    if len(L) == 0: return np.nan\n",
    "    return sum(L) / len(L)"
   ]
  },
  {
   "cell_type": "code",
   "execution_count": 8,
   "id": "frequent-singles",
   "metadata": {},
   "outputs": [],
   "source": [
    "def do_one_epoch(model, optimizer, loss_fn, dl, device):\n",
    "    model = model.train()\n",
    "    for inp, lbl in tqdm(dl, desc='Batch', leave=False):\n",
    "        optimizer.zero_grad()\n",
    "        out = model(inp.to(device))\n",
    "        loss = loss_fn(out, lbl.to(device))\n",
    "        loss.backward()\n",
    "        optimizer.step()\n",
    "    model = model.eval()\n",
    "    \n",
    "def evaluate(model, loss_fn, dl, device):\n",
    "    model = model.eval()\n",
    "    lbls_vc, preds_vc = ValueCollector(), ValueCollector()\n",
    "    loss_vc = ValueCollector()\n",
    "    for inp, lbl in tqdm(dl, desc='Batch', leave=False):\n",
    "        with torch.set_grad_enabled(False):\n",
    "            out = model(inp.to(device))\n",
    "            loss = loss_fn(out, lbl.to(device))\n",
    "        preds_vc.put(out.argmax(dim=1).detach().cpu())\n",
    "        lbls_vc.put(lbl)\n",
    "        loss_vc.put(loss.detach().cpu().item())\n",
    "    preds, lbls = preds_vc.get(), lbls_vc.get()\n",
    "    return {f'loss': mean(loss_vc.get()),\n",
    "            f'acc_i': get_accuracy(lbls, preds),\n",
    "            f'acc_c': get_balanced_accuracy(lbls, preds, 2)}"
   ]
  },
  {
   "cell_type": "code",
   "execution_count": 9,
   "id": "present-diary",
   "metadata": {},
   "outputs": [],
   "source": [
    "pos_files = sorted(os.listdir(data_path / 'def_front'))\n",
    "neg_files = sorted(os.listdir(data_path / 'ok_front'))\n",
    "np.random.seed(0)\n",
    "np.random.shuffle(pos_files)\n",
    "np.random.shuffle(neg_files)\n",
    "_N = int(len(pos_files) * 0.8)\n",
    "trn_pos_files, val_pos_files = pos_files[:_N], pos_files[_N:]\n",
    "_N = int(len(neg_files) * 0.8)\n",
    "trn_neg_files, val_neg_files = neg_files[:_N], neg_files[_N:]\n",
    "_normalize = TF.Normalize(mean=[0.485, 0.456, 0.406], std=[0.229, 0.224, 0.225])\n",
    "tfm = TF.Compose([TF.Resize((256,256)), TF.ToTensor(), _normalize])\n",
    "trn_ds = MyDs(trn_pos_files, trn_neg_files, tfm=tfm)\n",
    "val_ds = MyDs(val_pos_files, val_neg_files, tfm=tfm)\n",
    "trn_dl = DataLoader(trn_ds, batch_size=32, shuffle=True)\n",
    "val_dl = DataLoader(val_ds, batch_size=32, shuffle=False)"
   ]
  },
  {
   "cell_type": "code",
   "execution_count": 10,
   "id": "attractive-regulation",
   "metadata": {},
   "outputs": [],
   "source": [
    "model = create_model(2, 'resnet34').to(device)\n",
    "optimizer = torch.optim.Adam(model.parameters(), lr=1e-4)\n",
    "loss_fn = nn.CrossEntropyLoss()"
   ]
  },
  {
   "cell_type": "code",
   "execution_count": 11,
   "id": "alternate-tribune",
   "metadata": {},
   "outputs": [],
   "source": [
    "def to_str(res):\n",
    "    return f'loss={res[\"loss\"]:.4f} acc_i={res[\"acc_i\"]*100:.2f} acc_c={res[\"acc_c\"]*100:.2f}'"
   ]
  },
  {
   "cell_type": "code",
   "execution_count": 12,
   "id": "provincial-correlation",
   "metadata": {},
   "outputs": [
    {
     "data": {
      "application/vnd.jupyter.widget-view+json": {
       "model_id": "c6a88eea0dea4fa4b6de6e85e761bf90",
       "version_major": 2,
       "version_minor": 0
      },
      "text/plain": [
       "Epoch:   0%|          | 0/4 [00:00<?, ?it/s]"
      ]
     },
     "metadata": {},
     "output_type": "display_data"
    },
    {
     "data": {
      "application/vnd.jupyter.widget-view+json": {
       "model_id": "",
       "version_major": 2,
       "version_minor": 0
      },
      "text/plain": [
       "Batch:   0%|          | 0/33 [00:00<?, ?it/s]"
      ]
     },
     "metadata": {},
     "output_type": "display_data"
    },
    {
     "data": {
      "application/vnd.jupyter.widget-view+json": {
       "model_id": "",
       "version_major": 2,
       "version_minor": 0
      },
      "text/plain": [
       "Batch:   0%|          | 0/33 [00:00<?, ?it/s]"
      ]
     },
     "metadata": {},
     "output_type": "display_data"
    },
    {
     "data": {
      "application/vnd.jupyter.widget-view+json": {
       "model_id": "",
       "version_major": 2,
       "version_minor": 0
      },
      "text/plain": [
       "Batch:   0%|          | 0/9 [00:00<?, ?it/s]"
      ]
     },
     "metadata": {},
     "output_type": "display_data"
    },
    {
     "name": "stdout",
     "output_type": "stream",
     "text": [
      "Epoch=0 TRN loss=0.0345 acc_i=99.23 acc_c=99.36 VAL loss=0.0378 acc_i=99.23 acc_c=99.36\n"
     ]
    },
    {
     "data": {
      "application/vnd.jupyter.widget-view+json": {
       "model_id": "",
       "version_major": 2,
       "version_minor": 0
      },
      "text/plain": [
       "Batch:   0%|          | 0/33 [00:00<?, ?it/s]"
      ]
     },
     "metadata": {},
     "output_type": "display_data"
    },
    {
     "data": {
      "application/vnd.jupyter.widget-view+json": {
       "model_id": "",
       "version_major": 2,
       "version_minor": 0
      },
      "text/plain": [
       "Batch:   0%|          | 0/33 [00:00<?, ?it/s]"
      ]
     },
     "metadata": {},
     "output_type": "display_data"
    },
    {
     "data": {
      "application/vnd.jupyter.widget-view+json": {
       "model_id": "",
       "version_major": 2,
       "version_minor": 0
      },
      "text/plain": [
       "Batch:   0%|          | 0/9 [00:00<?, ?it/s]"
      ]
     },
     "metadata": {},
     "output_type": "display_data"
    },
    {
     "name": "stdout",
     "output_type": "stream",
     "text": [
      "Epoch=1 TRN loss=0.0043 acc_i=100.00 acc_c=100.00 VAL loss=0.0183 acc_i=99.23 acc_c=99.36\n"
     ]
    },
    {
     "data": {
      "application/vnd.jupyter.widget-view+json": {
       "model_id": "",
       "version_major": 2,
       "version_minor": 0
      },
      "text/plain": [
       "Batch:   0%|          | 0/33 [00:00<?, ?it/s]"
      ]
     },
     "metadata": {},
     "output_type": "display_data"
    },
    {
     "data": {
      "application/vnd.jupyter.widget-view+json": {
       "model_id": "",
       "version_major": 2,
       "version_minor": 0
      },
      "text/plain": [
       "Batch:   0%|          | 0/33 [00:00<?, ?it/s]"
      ]
     },
     "metadata": {},
     "output_type": "display_data"
    },
    {
     "data": {
      "application/vnd.jupyter.widget-view+json": {
       "model_id": "",
       "version_major": 2,
       "version_minor": 0
      },
      "text/plain": [
       "Batch:   0%|          | 0/9 [00:00<?, ?it/s]"
      ]
     },
     "metadata": {},
     "output_type": "display_data"
    },
    {
     "name": "stdout",
     "output_type": "stream",
     "text": [
      "Epoch=2 TRN loss=0.0009 acc_i=100.00 acc_c=100.00 VAL loss=0.0077 acc_i=99.62 acc_c=99.68\n"
     ]
    },
    {
     "data": {
      "application/vnd.jupyter.widget-view+json": {
       "model_id": "",
       "version_major": 2,
       "version_minor": 0
      },
      "text/plain": [
       "Batch:   0%|          | 0/33 [00:00<?, ?it/s]"
      ]
     },
     "metadata": {},
     "output_type": "display_data"
    },
    {
     "data": {
      "application/vnd.jupyter.widget-view+json": {
       "model_id": "",
       "version_major": 2,
       "version_minor": 0
      },
      "text/plain": [
       "Batch:   0%|          | 0/33 [00:00<?, ?it/s]"
      ]
     },
     "metadata": {},
     "output_type": "display_data"
    },
    {
     "data": {
      "application/vnd.jupyter.widget-view+json": {
       "model_id": "",
       "version_major": 2,
       "version_minor": 0
      },
      "text/plain": [
       "Batch:   0%|          | 0/9 [00:00<?, ?it/s]"
      ]
     },
     "metadata": {},
     "output_type": "display_data"
    },
    {
     "name": "stdout",
     "output_type": "stream",
     "text": [
      "Epoch=3 TRN loss=0.0029 acc_i=100.00 acc_c=100.00 VAL loss=0.0040 acc_i=100.00 acc_c=100.00\n"
     ]
    }
   ],
   "source": [
    "for epoch in tqdm(range(4), desc='Epoch'):\n",
    "    do_one_epoch(model, optimizer, loss_fn, trn_dl, device)\n",
    "    trn = evaluate(model, loss_fn, trn_dl, device)\n",
    "    val = evaluate(model, loss_fn, val_dl, device)\n",
    "    print(f'Epoch={epoch} TRN {to_str(trn)} VAL {to_str(val)}')"
   ]
  },
  {
   "cell_type": "code",
   "execution_count": 13,
   "id": "recognized-connecticut",
   "metadata": {},
   "outputs": [],
   "source": [
    "torch.save(model, 'trained_model.pt')"
   ]
  },
  {
   "cell_type": "code",
   "execution_count": null,
   "id": "afraid-planet",
   "metadata": {},
   "outputs": [],
   "source": []
  }
 ],
 "metadata": {
  "kernelspec": {
   "display_name": "eXNN",
   "language": "python",
   "name": "exnn"
  },
  "language_info": {
   "codemirror_mode": {
    "name": "ipython",
    "version": 3
   },
   "file_extension": ".py",
   "mimetype": "text/x-python",
   "name": "python",
   "nbconvert_exporter": "python",
   "pygments_lexer": "ipython3",
   "version": "3.8.13"
  }
 },
 "nbformat": 4,
 "nbformat_minor": 5
}
